{
 "cells": [
  {
   "cell_type": "markdown",
   "metadata": {},
   "source": [
    "# MLND Capstone: Reinforcement Learner Trader\n",
    "####  Q-learner with Dyna that sells and buys stock to maximize earnings\n",
    "####  Erik Flogvall 9 December 2017"
   ]
  },
  {
   "cell_type": "markdown",
   "metadata": {},
   "source": [
    "### Imports libraries and functions"
   ]
  },
  {
   "cell_type": "code",
   "execution_count": 1,
   "metadata": {
    "collapsed": true
   },
   "outputs": [],
   "source": [
    "#Imports Python libraries\n",
    "import os\n",
    "import numpy as np\n",
    "import pandas as pd\n",
    "import matplotlib.pyplot as plt"
   ]
  },
  {
   "cell_type": "code",
   "execution_count": 2,
   "metadata": {
    "collapsed": true
   },
   "outputs": [],
   "source": [
    "# Imports prepare_data function that I have made for this project\n",
    "from prepdata import prepare_data"
   ]
  },
  {
   "cell_type": "code",
   "execution_count": 3,
   "metadata": {
    "collapsed": true
   },
   "outputs": [],
   "source": [
    "#Imports the QTrader class that I have created\n",
    "from q_trader import QTrader"
   ]
  },
  {
   "cell_type": "markdown",
   "metadata": {},
   "source": [
    "### Loads and Preprocesses the data"
   ]
  },
  {
   "cell_type": "markdown",
   "metadata": {},
   "source": [
    "Reads and preprocesses the stock data from the CSV-files. Splits the data into a \"training only\" set for simulating practising on historical data and a \"training & evaluation\" set for simulating implementing the Q-learner."
   ]
  },
  {
   "cell_type": "code",
   "execution_count": 4,
   "metadata": {
    "collapsed": true
   },
   "outputs": [],
   "source": [
    "# The ratio of trading days used simulating practising on historical data\n",
    "split_ratio = 0.7\n",
    "\n",
    "# Window size for making features with rollings stats of the closing price\n",
    "window_size = 20\n",
    "\n",
    "# Subfolder where the CSV-files are stored\n",
    "csv_dir = 'individual_stocks_5yr'\n",
    "\n",
    "# Loads the CSV files and preprocesses them by splitting the data and computing new features from the closing price\n",
    "data, trading_days, dates, stocks = prepare_data(csv_dir, split_ratio, window_size)"
   ]
  },
  {
   "cell_type": "markdown",
   "metadata": {},
   "source": [
    "### Defining state settings"
   ]
  },
  {
   "cell_type": "markdown",
   "metadata": {},
   "source": [
    "The state is set by a dictionary containing feature names with how many discrete steps each should use."
   ]
  },
  {
   "cell_type": "code",
   "execution_count": 5,
   "metadata": {
    "collapsed": true
   },
   "outputs": [],
   "source": [
    "# Creates seven different states settings\n",
    "\n",
    "state_settings = [\n",
    "   {'Daily_return': 3, 'Rolling_mean': 3, 'Rolling_std': 3, 'Daily_return_-1': 3, 'Daily_return_-2': 3},\n",
    "   {'Daily_return': 2, 'Rolling_mean': 2, 'Rolling_std': 2, 'Daily_return_-1': 2, 'Daily_return_-2': 2},\n",
    "   {'Daily_return': 2},\n",
    "   {'Daily_return': 3},\n",
    "   {'Daily_return': 5},\n",
    "   {'Daily_return': 10},\n",
    "   {'Daily_return': 20},\n",
    "   {'Daily_return': 50},\n",
    "   {'Daily_return': 2, 'Daily_return_-1': 2, 'Daily_return_-2': 2},\n",
    "   {'Daily_return': 3, 'Daily_return_-1': 3, 'Daily_return_-2': 3},\n",
    "   {'Daily_return': 5, 'Daily_return_-1': 5, 'Daily_return_-2': 5},\n",
    "   {'Rolling_mean': 2, 'Rolling_std': 2},\n",
    "   {'Rolling_mean': 3, 'Rolling_std': 3},\n",
    "   {'Rolling_mean': 5, 'Rolling_std': 5},\n",
    "   {'Rolling_mean': 10, 'Rolling_std': 10},\n",
    "   {'Daily_return': 2,'Rolling_mean': 2, 'Rolling_std': 2},\n",
    "   {'Daily_return': 3,'Rolling_mean': 3, 'Rolling_std': 3},\n",
    "   {'Daily_return': 5,'Rolling_mean': 5, 'Rolling_std': 5}]\n",
    "\n"
   ]
  },
  {
   "cell_type": "markdown",
   "metadata": {},
   "source": [
    "### Initializing Q-learners for each method of making states"
   ]
  },
  {
   "cell_type": "code",
   "execution_count": 6,
   "metadata": {},
   "outputs": [
    {
     "name": "stdout",
     "output_type": "stream",
     "text": [
      "{'Daily_return': 3, 'Daily_return_-2': 3, 'Daily_return_-1': 3, 'Rolling_mean': 3, 'Rolling_std': 3}\n",
      "{'Daily_return': 2, 'Daily_return_-2': 2, 'Daily_return_-1': 2, 'Rolling_mean': 2, 'Rolling_std': 2}\n",
      "{'Daily_return': 2}\n",
      "{'Daily_return': 3}\n",
      "{'Daily_return': 5}\n",
      "{'Daily_return': 10}\n",
      "{'Daily_return': 20}\n",
      "{'Daily_return': 50}\n",
      "{'Daily_return': 2, 'Daily_return_-2': 2, 'Daily_return_-1': 2}\n",
      "{'Daily_return': 3, 'Daily_return_-2': 3, 'Daily_return_-1': 3}\n",
      "{'Daily_return': 5, 'Daily_return_-2': 5, 'Daily_return_-1': 5}\n",
      "{'Rolling_mean': 2, 'Rolling_std': 2}\n",
      "{'Rolling_mean': 3, 'Rolling_std': 3}\n",
      "{'Rolling_mean': 5, 'Rolling_std': 5}\n",
      "{'Rolling_mean': 10, 'Rolling_std': 10}\n",
      "{'Daily_return': 2, 'Rolling_mean': 2, 'Rolling_std': 2}\n",
      "{'Daily_return': 3, 'Rolling_mean': 3, 'Rolling_std': 3}\n",
      "{'Daily_return': 5, 'Rolling_mean': 5, 'Rolling_std': 5}\n"
     ]
    }
   ],
   "source": [
    "qt_input = {'data': data, 'dates':dates, 'stocks':stocks, 'trading_days': trading_days, 'state_settings': None}\n",
    "\n",
    "qt = []\n",
    "for state_setting in state_settings:\n",
    "    print state_setting\n",
    "    qt_input['state_settings'] = state_setting\n",
    "    qt.append(QTrader(qt_input, epsilon = 1.0, alpha = 0.05,epsilon_decay = 1.5e-5, gamma = 0.95))"
   ]
  },
  {
   "cell_type": "markdown",
   "metadata": {},
   "source": [
    "### Trains the Q-learners on historical data"
   ]
  },
  {
   "cell_type": "code",
   "execution_count": 7,
   "metadata": {},
   "outputs": [
    {
     "name": "stdout",
     "output_type": "stream",
     "text": [
      "training  {'Daily_return': 3, 'Daily_return_-2': 3, 'Daily_return_-1': 3, 'Rolling_mean': 3, 'Rolling_std': 3}\n",
      "Finished\n",
      "training  {'Daily_return': 2, 'Daily_return_-2': 2, 'Daily_return_-1': 2, 'Rolling_mean': 2, 'Rolling_std': 2}\n",
      "Finished\n",
      "training  {'Daily_return': 2}\n",
      "Finished\n",
      "training  {'Daily_return': 3}\n",
      "Finished\n",
      "training  {'Daily_return': 5}\n",
      "Finished\n",
      "training  {'Daily_return': 10}\n",
      "Finished\n",
      "training  {'Daily_return': 20}\n",
      "Finished\n",
      "training  {'Daily_return': 50}\n",
      "Finished\n",
      "training  {'Daily_return': 2, 'Daily_return_-2': 2, 'Daily_return_-1': 2}\n",
      "Finished\n",
      "training  {'Daily_return': 3, 'Daily_return_-2': 3, 'Daily_return_-1': 3}\n",
      "Finished\n",
      "training  {'Daily_return': 5, 'Daily_return_-2': 5, 'Daily_return_-1': 5}\n",
      "Finished\n",
      "training  {'Rolling_mean': 2, 'Rolling_std': 2}\n",
      "Finished\n",
      "training  {'Rolling_mean': 3, 'Rolling_std': 3}\n",
      "Finished\n",
      "training  {'Rolling_mean': 5, 'Rolling_std': 5}\n",
      "Finished\n",
      "training  {'Rolling_mean': 10, 'Rolling_std': 10}\n",
      "Finished\n",
      "training  {'Daily_return': 2, 'Rolling_mean': 2, 'Rolling_std': 2}\n",
      "Finished\n",
      "training  {'Daily_return': 3, 'Rolling_mean': 3, 'Rolling_std': 3}\n",
      "Finished\n",
      "training  {'Daily_return': 5, 'Rolling_mean': 5, 'Rolling_std': 5}\n",
      "Finished\n"
     ]
    }
   ],
   "source": [
    "for n in range(0,len(qt),1):\n",
    "    print \"training \", state_settings[n]\n",
    "    qt[n].run('train_only')"
   ]
  },
  {
   "cell_type": "markdown",
   "metadata": {},
   "source": [
    "### Performance on historical data"
   ]
  },
  {
   "cell_type": "code",
   "execution_count": 8,
   "metadata": {},
   "outputs": [
    {
     "name": "stdout",
     "output_type": "stream",
     "text": [
      "{'Daily_return': 3, 'Daily_return_-2': 3, 'Daily_return_-1': 3, 'Rolling_mean': 3, 'Rolling_std': 3}\n",
      "{'Benchmark': 0.12787467683312881, 'Q-learning': 0.76880457134126379}\n",
      "\n",
      "\n",
      "{'Daily_return': 2, 'Daily_return_-2': 2, 'Daily_return_-1': 2, 'Rolling_mean': 2, 'Rolling_std': 2}\n",
      "{'Benchmark': 0.12787467683312881, 'Q-learning': 1.1133470526824363}\n",
      "\n",
      "\n",
      "{'Daily_return': 2}\n",
      "{'Benchmark': 0.12787467683312881, 'Q-learning': 1.4710642708098818}\n",
      "\n",
      "\n",
      "{'Daily_return': 3}\n",
      "{'Benchmark': 0.12787467683312881, 'Q-learning': 1.5093079815549471}\n",
      "\n",
      "\n",
      "{'Daily_return': 5}\n",
      "{'Benchmark': 0.12787467683312881, 'Q-learning': 1.4006651458372399}\n",
      "\n",
      "\n",
      "{'Daily_return': 10}\n",
      "{'Benchmark': 0.12787467683312881, 'Q-learning': 1.3144558475679284}\n",
      "\n",
      "\n",
      "{'Daily_return': 20}\n",
      "{'Benchmark': 0.12787467683312881, 'Q-learning': 1.1051836095366498}\n",
      "\n",
      "\n",
      "{'Daily_return': 50}\n",
      "{'Benchmark': 0.12787467683312881, 'Q-learning': 0.79293536644478269}\n",
      "\n",
      "\n",
      "{'Daily_return': 2, 'Daily_return_-2': 2, 'Daily_return_-1': 2}\n",
      "{'Benchmark': 0.12787467683312881, 'Q-learning': 1.2700506858378631}\n",
      "\n",
      "\n",
      "{'Daily_return': 3, 'Daily_return_-2': 3, 'Daily_return_-1': 3}\n",
      "{'Benchmark': 0.12787467683312881, 'Q-learning': 1.1080717226124177}\n",
      "\n",
      "\n",
      "{'Daily_return': 5, 'Daily_return_-2': 5, 'Daily_return_-1': 5}\n",
      "{'Benchmark': 0.12787467683312881, 'Q-learning': 0.82979097075541819}\n",
      "\n",
      "\n",
      "{'Rolling_mean': 2, 'Rolling_std': 2}\n",
      "{'Benchmark': 0.12787467683312881, 'Q-learning': 1.6306047450540084}\n",
      "\n",
      "\n",
      "{'Rolling_mean': 3, 'Rolling_std': 3}\n",
      "{'Benchmark': 0.12787467683312881, 'Q-learning': 1.5108048129817411}\n",
      "\n",
      "\n",
      "{'Rolling_mean': 5, 'Rolling_std': 5}\n",
      "{'Benchmark': 0.12787467683312881, 'Q-learning': 1.2423466433877983}\n",
      "\n",
      "\n",
      "{'Rolling_mean': 10, 'Rolling_std': 10}\n",
      "{'Benchmark': 0.12787467683312881, 'Q-learning': 0.8056767815714827}\n",
      "\n",
      "\n",
      "{'Daily_return': 2, 'Rolling_mean': 2, 'Rolling_std': 2}\n",
      "{'Benchmark': 0.12787467683312881, 'Q-learning': 1.4284603217734615}\n",
      "\n",
      "\n",
      "{'Daily_return': 3, 'Rolling_mean': 3, 'Rolling_std': 3}\n",
      "{'Benchmark': 0.12787467683312881, 'Q-learning': 1.1646229709496689}\n",
      "\n",
      "\n",
      "{'Daily_return': 5, 'Rolling_mean': 5, 'Rolling_std': 5}\n",
      "{'Benchmark': 0.12787467683312881, 'Q-learning': 0.74745569874085571}\n",
      "\n",
      "\n"
     ]
    }
   ],
   "source": [
    "# Checks the performance agianst the benchmark for each state settting\n",
    "benchmarks = []\n",
    "\n",
    "for n in range(0,len(qt),1):\n",
    "    benchmark = qt[n].check_benchmark()\n",
    "    benchmarks.append(benchmark)\n",
    "    print state_settings[n]\n",
    "    print benchmark\n",
    "    print \"\\n\""
   ]
  },
  {
   "cell_type": "markdown",
   "metadata": {},
   "source": [
    "#### Runs the five best methods again"
   ]
  },
  {
   "cell_type": "code",
   "execution_count": 9,
   "metadata": {},
   "outputs": [
    {
     "name": "stdout",
     "output_type": "stream",
     "text": [
      "--------------------------\n",
      "{'Daily_return': 2}\n",
      "-------\n",
      "Run 1\n",
      "initializing\n",
      "training\n",
      "Finished\n",
      "evaluating results\n",
      "1.65652906469\n",
      "-------\n",
      "Run 2\n",
      "initializing\n",
      "training\n",
      "Finished\n",
      "evaluating results\n",
      "1.54093725233\n",
      "-------\n",
      "Run 3\n",
      "initializing\n",
      "training\n",
      "Finished\n",
      "evaluating results\n",
      "1.4822941628\n",
      "Mean return 1.55992015994\n",
      "--------------------------\n",
      "{'Daily_return': 3}\n",
      "-------\n",
      "Run 1\n",
      "initializing\n",
      "training\n",
      "Finished\n",
      "evaluating results\n",
      "1.49127851538\n",
      "-------\n",
      "Run 2\n",
      "initializing\n",
      "training\n",
      "Finished\n",
      "evaluating results\n",
      "1.39698747688\n",
      "-------\n",
      "Run 3\n",
      "initializing\n",
      "training\n",
      "Finished\n",
      "evaluating results\n",
      "1.51684067526\n",
      "Mean return 1.46836888917\n",
      "--------------------------\n",
      "{'Rolling_mean': 2, 'Rolling_std': 2}\n",
      "-------\n",
      "Run 1\n",
      "initializing\n",
      "training\n",
      "Finished\n",
      "evaluating results\n",
      "1.62812548256\n",
      "-------\n",
      "Run 2\n",
      "initializing\n",
      "training\n",
      "Finished\n",
      "evaluating results\n",
      "1.73897287817\n",
      "-------\n",
      "Run 3\n",
      "initializing\n",
      "training\n",
      "Finished\n",
      "evaluating results\n",
      "1.67797260591\n",
      "Mean return 1.68169032221\n",
      "--------------------------\n",
      "{'Rolling_mean': 3, 'Rolling_std': 3}\n",
      "-------\n",
      "Run 1\n",
      "initializing\n",
      "training\n",
      "Finished\n",
      "evaluating results\n",
      "1.51054951191\n",
      "-------\n",
      "Run 2\n",
      "initializing\n",
      "training\n",
      "Finished\n",
      "evaluating results\n",
      "1.39907470915\n",
      "-------\n",
      "Run 3\n",
      "initializing\n",
      "training\n",
      "Finished\n",
      "evaluating results\n",
      "1.43716759174\n",
      "Mean return 1.44893060427\n",
      "--------------------------\n",
      "{'Daily_return': 2, 'Rolling_mean': 2, 'Rolling_std': 2}\n",
      "-------\n",
      "Run 1\n",
      "initializing\n",
      "training\n",
      "Finished\n",
      "evaluating results\n",
      "1.40332671901\n",
      "-------\n",
      "Run 2\n",
      "initializing\n",
      "training\n",
      "Finished\n",
      "evaluating results\n",
      "1.39855717698\n",
      "-------\n",
      "Run 3\n",
      "initializing\n",
      "training\n",
      "Finished\n",
      "evaluating results\n",
      "1.32736703018\n",
      "Mean return 1.37641697539\n"
     ]
    }
   ],
   "source": [
    "top5_states = [2,3,11,12,15]\n",
    "\n",
    "top5_state_settings = [state_settings[i] for i in top5_states]\n",
    "\n",
    "qt_input = {'data': data, 'dates':dates, 'stocks':stocks, 'trading_days': trading_days, 'state_settings': None}\n",
    "\n",
    "returns = []\n",
    "for state_setting in top5_state_settings:\n",
    "    state_returns = []\n",
    "    qt = []\n",
    "    print \"--------------------------\\n\",state_setting\n",
    "    for k in range(3):\n",
    "        print \"-------\\nRun\", k+1\n",
    "        print \"initializing\"\n",
    "        qt_input['state_settings'] = state_setting\n",
    "        qt.append(QTrader(qt_input, epsilon = 1.0, alpha = 0.05,epsilon_decay = 1.5e-5, gamma = 0.95))\n",
    "        print \"training\"\n",
    "        qt[k].run('train_only')\n",
    "        print \"evaluating results\"\n",
    "        benchmark = qt[k].check_benchmark()\n",
    "        print benchmark['Q-learning']\n",
    "        state_returns.append(benchmark['Q-learning'])\n",
    "    mean_return = np.mean(state_returns)\n",
    "    print \"Mean return\", mean_return\n",
    "    returns.append(mean_return)\n",
    "    \n",
    "        \n",
    "        \n",
    "\n"
   ]
  },
  {
   "cell_type": "markdown",
   "metadata": {
    "collapsed": true
   },
   "source": [
    "# Results for evaluation set"
   ]
  },
  {
   "cell_type": "code",
   "execution_count": 11,
   "metadata": {},
   "outputs": [
    {
     "name": "stdout",
     "output_type": "stream",
     "text": [
      "Finished\n",
      "Finished\n",
      "Finished\n",
      "Finished\n",
      "Finished\n",
      "Finished\n",
      "Finished\n",
      "Finished\n",
      "Finished\n",
      "Finished\n"
     ]
    }
   ],
   "source": [
    "# Runs five seprate Q-learners with the final model.\n",
    "\n",
    "qt_input = {'data': data, 'dates':dates, 'stocks':stocks, 'trading_days': trading_days, 'state_settings': {'Rolling_mean': 2, 'Rolling_std': 2}}\n",
    "\n",
    "evaluation_return = []\n",
    "benchmarks = []\n",
    "\n",
    "qt = []\n",
    "for n in range(0,5,1):\n",
    "    qt.append(QTrader(qt_input, epsilon = 1.0, alpha = 0.05,epsilon_decay = 1.5e-5, gamma = 0.95))\n",
    "    qt[n].run('train_only')\n",
    "    qt[n].run('train_eval')\n",
    "    evaluation_return.append(qt[n].total_balance())\n",
    "    benchmarks.append(qt[n].check_benchmark())"
   ]
  },
  {
   "cell_type": "markdown",
   "metadata": {},
   "source": [
    "## Return for the five Q-learners with the final model"
   ]
  },
  {
   "cell_type": "code",
   "execution_count": 12,
   "metadata": {},
   "outputs": [
    {
     "name": "stdout",
     "output_type": "stream",
     "text": [
      "22584.49\n",
      "27229.49\n",
      "24845.51\n",
      "24753.04\n",
      "25462.52\n"
     ]
    }
   ],
   "source": [
    "for ev in evaluation_return:\n",
    "    print ev"
   ]
  },
  {
   "cell_type": "markdown",
   "metadata": {},
   "source": [
    "## Benchmark for the five Q-learners with the final mode"
   ]
  },
  {
   "cell_type": "code",
   "execution_count": 13,
   "metadata": {},
   "outputs": [
    {
     "name": "stdout",
     "output_type": "stream",
     "text": [
      "{'Benchmark': 0.15415329758612203, 'Q-learning': 0.65347044189668735}\n",
      "{'Benchmark': 0.15415329758612203, 'Q-learning': 0.78755784786992611}\n",
      "{'Benchmark': 0.15415329758612203, 'Q-learning': 0.74667021686743706}\n",
      "{'Benchmark': 0.15415329758612203, 'Q-learning': 0.74855156447267834}\n",
      "{'Benchmark': 0.15415329758612203, 'Q-learning': 0.74412112953917875}\n"
     ]
    }
   ],
   "source": [
    "for benchmark in benchmarks:\n",
    "    print benchmark"
   ]
  },
  {
   "cell_type": "markdown",
   "metadata": {
    "collapsed": true
   },
   "source": [
    "## Making plot to compare performance"
   ]
  },
  {
   "cell_type": "code",
   "execution_count": 14,
   "metadata": {},
   "outputs": [
    {
     "data": {
      "image/png": "[encoded data removed]",
      "text/plain": [
       "<matplotlib.figure.Figure at 0x7f87a959a5d0>"
      ]
     },
     "metadata": {},
     "output_type": "display_data"
    },
    {
     "name": "stdout",
     "output_type": "stream",
     "text": [
      "595365\n"
     ]
    }
   ],
   "source": [
    "d = {}\n",
    "for n in range(0,5,1):\n",
    "    d[n] = qt[n].log['reward']\n",
    "    \n",
    "\n",
    "    \n",
    "df = pd.DataFrame(d)\n",
    "\n",
    "df = df.rolling(5000).mean()\n",
    "\n",
    "df.plot()\n",
    "plt.show()\n",
    "\n",
    "print len(qt[0].log['t'])"
   ]
  },
  {
   "cell_type": "code",
   "execution_count": null,
   "metadata": {
    "collapsed": true
   },
   "outputs": [],
   "source": []
  }
 ],
 "metadata": {
  "kernelspec": {
   "display_name": "Python 2",
   "language": "python",
   "name": "python2"
  },
  "language_info": {
   "codemirror_mode": {
    "name": "ipython",
    "version": 2
   },
   "file_extension": ".py",
   "mimetype": "text/x-python",
   "name": "python",
   "nbconvert_exporter": "python",
   "pygments_lexer": "ipython2",
   "version": "2.7.14"
  }
 },
 "nbformat": 4,
 "nbformat_minor": 2
}
